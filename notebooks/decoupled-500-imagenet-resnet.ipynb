{
 "cells": [
  {
   "cell_type": "code",
   "execution_count": null,
   "metadata": {},
   "outputs": [],
   "source": [
    "%env CUDA_VISIBLE_DEVICES=0"
   ]
  },
  {
   "cell_type": "code",
   "execution_count": null,
   "metadata": {},
   "outputs": [],
   "source": [
    "import os, torch, torchvision\n",
    "from cmc.models.resnet import InsResNet50\n",
    "from torchvision import transforms\n",
    "from netdissect import tally, runningstats, renormalize, parallelfolder, pbar, show, imgviz\n",
    "\n",
    "selected_classes = 500\n",
    "\n",
    "expdir = 'results/decoupled-%d-imagenet-resnet' % selected_classes\n",
    "def ef(s):\n",
    "    return os.path.join(expdir, s)\n",
    "\n",
    "dataset = \"imagenet\"\n",
    "val_path = f\"datasets/{dataset}/val\"\n",
    "train_path = f\"datasets/{dataset}/train\"\n",
    "img_trans = transforms.Compose([\n",
    "    transforms.Resize(256),\n",
    "    transforms.CenterCrop(224),\n",
    "    transforms.ToTensor(),\n",
    "    renormalize.NORMALIZER['imagenet']\n",
    "])\n",
    "dsv = parallelfolder.ParallelImageFolders([val_path],\n",
    "                        transform=img_trans, classification=True, shuffle=True)\n",
    "dst = parallelfolder.ParallelImageFolders([train_path],\n",
    "                        transform=img_trans, classification=True, shuffle=True)\n",
    "try:\n",
    "    labelfile = f\"datasets/{dataset}/labels.txt\"\n",
    "    import csv\n",
    "    with open(labelfile) as f:\n",
    "        labels = [r[1] for r in csv.reader(f)]\n",
    "except:\n",
    "    label = csv.classes\n",
    "model = torchvision.models.resnet50(num_classes=selected_classes)\n",
    "model.load_state_dict(torch.load(ef('best_weights.pth'))['state_dict'])\n",
    "model.cuda()\n"
   ]
  },
  {
   "cell_type": "code",
   "execution_count": null,
   "metadata": {},
   "outputs": [],
   "source": [
    "iv = imgviz.ImageVisualizer(100, source=dsv)\n",
    "show([[iv.image(dsv[i][0]), labels[dsv[i][1]].replace(\"Norwegian\", \"\")] for i in range(100) if dsv[i][1] >= 10])"
   ]
  },
  {
   "cell_type": "code",
   "execution_count": null,
   "metadata": {},
   "outputs": [],
   "source": [
    "model.cuda()\n",
    "\n",
    "# How much we think\n",
    "def novelty_score(imgdat):\n",
    "    logits = model(imgdat.cuda())\n",
    "    return -logits.max(1)[0]\n",
    "\n",
    "def batch_score_inliers(imgbatch, c):\n",
    "    selected = imgbatch[c < selected_classes]\n",
    "    if not len(selected):\n",
    "        return None\n",
    "    return novelty_score(selected)[:,None]\n",
    "\n",
    "def batch_score_outliers(imgbatch, c):\n",
    "    selected = imgbatch[c >= selected_classes]\n",
    "    if not len(selected):\n",
    "        return None\n",
    "    return novelty_score(selected)[:,None]\n",
    "\n",
    "rq_inlier = tally.tally_quantile(batch_score_inliers, dsv, num_workers=100, batch_size=512, pin_memory=True,\n",
    "                   cachefile=ef(f'{dataset}-resnet50-sel{selected_classes}-inlier_rq.npz'))\n",
    "rq_outlier = tally.tally_quantile(batch_score_outliers, dsv, num_workers=100, batch_size=512, pin_memory=True,\n",
    "                   cachefile=ef(f'{dataset}-resnet50-sel{selected_classes}-outlier_rq.npz'))\n"
   ]
  },
  {
   "cell_type": "code",
   "execution_count": null,
   "metadata": {},
   "outputs": [],
   "source": [
    "from matplotlib import pyplot as plt\n",
    "plt.title('Validation set scores, %d seen classes'%  selected_classes)\n",
    "xrange = torch.linspace(0,1,100)\n",
    "plt.plot(rq_inlier.quantiles(xrange)[0].numpy(), xrange.numpy(), label=\"inliers\")\n",
    "plt.plot(rq_outlier.quantiles(xrange)[0].numpy(), xrange.numpy(), label=\"novel\")\n",
    "plt.ylabel('percentile')\n",
    "plt.xlabel('score')\n",
    "plt.legend()"
   ]
  },
  {
   "cell_type": "code",
   "execution_count": null,
   "metadata": {},
   "outputs": [],
   "source": [
    "def avg_prec(precision, recall):\n",
    "    precision2 = torch.tensor([precision[i:].max() for i in range(len(precision))])[1:]\n",
    "    recall2 = recall[1:] - recall[:-1]\n",
    "    return (recall2 * precision2).sum().item()\n",
    "\n",
    "lowscore = min([rq.quantiles(0.0).item() for rq in [rq_inlier, rq_outlier]])\n",
    "highscore = max([rq.quantiles(1.0).item() for rq in [rq_inlier, rq_outlier]])\n",
    "srange = torch.linspace(lowscore, highscore, 10000)\n",
    "true_pos = (1.0 - rq_outlier.normalize(srange[None])[0]).flip(0)\n",
    "false_pos = (1.0 - rq_inlier.normalize(srange[None])[0]).flip(0)\n",
    "precision = (true_pos + 1e-20) / (true_pos + false_pos + 1e-20)\n",
    "recall = true_pos\n",
    "accuracy = (true_pos + (1 - false_pos)) / 2\n",
    "plt.title(\"decoupled classifier novelty detection w places MoCo\\nFirst %s imagenet classes vs others\" % selected_classes)\n",
    "# plt.plot(recall, true_pos, label=\"True positives\")\n",
    "plt.plot(recall, false_pos, label=\"False positives\")\n",
    "plt.plot(recall, precision, label=\"Precision\")\n",
    "ap = avg_prec(precision, recall)\n",
    "plt.axhline(y=ap, color='orange', linestyle='--', label=\"AP=%.3g\" % ap)\n",
    "plt.plot(recall, accuracy, label=\"Max acc=%.3g\" % accuracy.max().item())\n",
    "plt.ylabel('precision')\n",
    "plt.xlabel('recall')\n",
    "plt.legend()"
   ]
  },
  {
   "cell_type": "code",
   "execution_count": null,
   "metadata": {},
   "outputs": [],
   "source": [
    "lowscore"
   ]
  }
 ],
 "metadata": {
  "kernelspec": {
   "display_name": "Python 3",
   "language": "python",
   "name": "python3"
  },
  "language_info": {
   "codemirror_mode": {
    "name": "ipython",
    "version": 3
   },
   "file_extension": ".py",
   "mimetype": "text/x-python",
   "name": "python",
   "nbconvert_exporter": "python",
   "pygments_lexer": "ipython3",
   "version": "3.6.7"
  }
 },
 "nbformat": 4,
 "nbformat_minor": 4
}